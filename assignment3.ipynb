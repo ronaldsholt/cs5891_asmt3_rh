{
 "cells": [
  {
   "cell_type": "code",
   "execution_count": null,
   "metadata": {},
   "outputs": [],
   "source": [
    "import pandas as pd\n",
    "import numpy as np\n",
    "from sklearn.feature_extraction.text import TfidfVectorizer\n",
    "from sklearn.model_selection import train_test_split\n",
    "from sklearn.linear_model import LogisticRegression\n",
    "from sklearn.metrics import accuracy_score, classification_report\n",
    "\n",
    "# Define data directory\n",
    "data_dir = \"NewB\"\n",
    "\n",
    "# Load datasets\n",
    "train_data = pd.read_csv(f'{data_dir}/train_orig.txt', sep='\\t', header=None, names=['label', 'sentence'])\n",
    "test_data = pd.read_csv(f'{data_dir}/test.txt', sep='\\t', header=None, names=['label', 'sentence'])\n",
    "\n",
    "# Map labels to categories\n",
    "label_mapping = {\n",
    "    0: 'Newsday (Liberal)', 1: 'New York Times (Liberal)', 2: 'CNN (Liberal)',\n",
    "    3: 'Los Angeles Times (Liberal)', 4: 'Washington Post (Liberal)',\n",
    "    5: 'Politico (Neutral)', 6: 'Wall Street Journal (Conservative)',\n",
    "    7: 'New York Post (Conservative)', 8: 'Daily Press (Conservative)',\n",
    "    9: 'Daily Herald (Conservative)', 10: 'Chicago Tribune (Conservative)'\n",
    "}\n",
    "train_data['label'] = train_data['label'].map(label_mapping)\n",
    "test_data['label'] = test_data['label'].map(label_mapping)\n",
    "\n",
    "# Simplify categories to Conservative and Liberal\n",
    "train_data['bias'] = train_data['label'].apply(lambda x: 'Conservative' if 'Conservative' in x else ('Liberal' if 'Liberal' in x else 'Neutral'))\n",
    "test_data['bias'] = test_data['label'].apply(lambda x: 'Conservative' if 'Conservative' in x else ('Liberal' if 'Liberal' in x else 'Neutral'))\n",
    "\n",
    "# Filter out Neutral to make classification binary\n",
    "data_subset = train_data[train_data['bias'].isin(['Conservative', 'Liberal'])].copy()\n",
    "X = data_subset['sentence']\n",
    "y = data_subset['bias']\n",
    "\n",
    "# Convert text to numerical representation\n",
    "tfidf = TfidfVectorizer(stop_words='english', max_features=5000)\n",
    "X_tfidf = tfidf.fit_transform(X)\n",
    "\n",
    "# Split dataset into training and testing sets\n",
    "X_train, X_test, y_train, y_test = train_test_split(X_tfidf, y, test_size=0.2, random_state=42)\n",
    "\n",
    "# Train logistic regression model\n",
    "clf = LogisticRegression()\n",
    "clf.fit(X_train, y_train)\n",
    "\n",
    "# Predict and evaluate\n",
    "predictions = clf.predict(X_test)\n",
    "accuracy = accuracy_score(y_test, predictions)\n",
    "print(f'Accuracy: {accuracy:.4f}')\n",
    "print('Classification Report:\\n', classification_report(y_test, predictions))"
   ]
  },
  {
   "cell_type": "code",
   "execution_count": null,
   "metadata": {},
   "outputs": [],
   "source": []
  }
 ],
 "metadata": {
  "language_info": {
   "name": "python"
  }
 },
 "nbformat": 4,
 "nbformat_minor": 2
}
